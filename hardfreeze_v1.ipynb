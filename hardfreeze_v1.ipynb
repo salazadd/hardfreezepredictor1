{
  "metadata": {
    "language_info": {
      "codemirror_mode": {
        "name": "python",
        "version": 3
      },
      "file_extension": ".py",
      "mimetype": "text/x-python",
      "name": "python",
      "nbconvert_exporter": "python",
      "pygments_lexer": "ipython3",
      "version": "3.8"
    },
    "kernelspec": {
      "name": "python",
      "display_name": "Python (Pyodide)",
      "language": "python"
    },
    "toc-showtags": true,
    "toc-showmarkdowntxt": true,
    "toc-autonumbering": true
  },
  "nbformat_minor": 4,
  "nbformat": 4,
  "cells": [
    {
      "cell_type": "code",
      "source": "import itertools\nimport numpy as np\nimport matplotlib.pyplot as plt\nfrom matplotlib.ticker import NullFormatter\nimport pandas as pd\nimport numpy as np\nimport matplotlib.ticker as ticker\nfrom sklearn import preprocessing\n%matplotlib inline",
      "metadata": {
        "trusted": true
      },
      "execution_count": 2,
      "outputs": []
    },
    {
      "cell_type": "code",
      "source": "df = pd.read_csv('HFP.csv')\ndf.head()",
      "metadata": {
        "trusted": true
      },
      "execution_count": 3,
      "outputs": [
        {
          "execution_count": 3,
          "output_type": "execute_result",
          "data": {
            "text/plain": "   Year  Annual Freeze Flairs Hurricaines Earthquakes\n0  1900      19    Yes     No         Yes          no\n1  1901      21     No     No          No          no\n2  1902      27     No     No          No          no\n3  1903      20    Yes     No          No          no\n4  1904      22     No     No          No          no",
            "text/html": "<div>\n<style scoped>\n    .dataframe tbody tr th:only-of-type {\n        vertical-align: middle;\n    }\n\n    .dataframe tbody tr th {\n        vertical-align: top;\n    }\n\n    .dataframe thead th {\n        text-align: right;\n    }\n</style>\n<table border=\"1\" class=\"dataframe\">\n  <thead>\n    <tr style=\"text-align: right;\">\n      <th></th>\n      <th>Year</th>\n      <th>Annual</th>\n      <th>Freeze</th>\n      <th>Flairs</th>\n      <th>Hurricaines</th>\n      <th>Earthquakes</th>\n    </tr>\n  </thead>\n  <tbody>\n    <tr>\n      <th>0</th>\n      <td>1900</td>\n      <td>19</td>\n      <td>Yes</td>\n      <td>No</td>\n      <td>Yes</td>\n      <td>no</td>\n    </tr>\n    <tr>\n      <th>1</th>\n      <td>1901</td>\n      <td>21</td>\n      <td>No</td>\n      <td>No</td>\n      <td>No</td>\n      <td>no</td>\n    </tr>\n    <tr>\n      <th>2</th>\n      <td>1902</td>\n      <td>27</td>\n      <td>No</td>\n      <td>No</td>\n      <td>No</td>\n      <td>no</td>\n    </tr>\n    <tr>\n      <th>3</th>\n      <td>1903</td>\n      <td>20</td>\n      <td>Yes</td>\n      <td>No</td>\n      <td>No</td>\n      <td>no</td>\n    </tr>\n    <tr>\n      <th>4</th>\n      <td>1904</td>\n      <td>22</td>\n      <td>No</td>\n      <td>No</td>\n      <td>No</td>\n      <td>no</td>\n    </tr>\n  </tbody>\n</table>\n</div>"
          },
          "metadata": {}
        }
      ]
    },
    {
      "cell_type": "code",
      "source": "df['Hurricaines'].replace(to_replace=['Yes','No'], value=[0,1],inplace=True)\ndf.head()",
      "metadata": {
        "trusted": true
      },
      "execution_count": 5,
      "outputs": [
        {
          "execution_count": 5,
          "output_type": "execute_result",
          "data": {
            "text/plain": "   Year  Annual Freeze Flairs  Hurricaines Earthquakes\n0  1900      19    Yes     No            0          no\n1  1901      21     No     No            1          no\n2  1902      27     No     No            1          no\n3  1903      20    Yes     No            1          no\n4  1904      22     No     No            1          no",
            "text/html": "<div>\n<style scoped>\n    .dataframe tbody tr th:only-of-type {\n        vertical-align: middle;\n    }\n\n    .dataframe tbody tr th {\n        vertical-align: top;\n    }\n\n    .dataframe thead th {\n        text-align: right;\n    }\n</style>\n<table border=\"1\" class=\"dataframe\">\n  <thead>\n    <tr style=\"text-align: right;\">\n      <th></th>\n      <th>Year</th>\n      <th>Annual</th>\n      <th>Freeze</th>\n      <th>Flairs</th>\n      <th>Hurricaines</th>\n      <th>Earthquakes</th>\n    </tr>\n  </thead>\n  <tbody>\n    <tr>\n      <th>0</th>\n      <td>1900</td>\n      <td>19</td>\n      <td>Yes</td>\n      <td>No</td>\n      <td>0</td>\n      <td>no</td>\n    </tr>\n    <tr>\n      <th>1</th>\n      <td>1901</td>\n      <td>21</td>\n      <td>No</td>\n      <td>No</td>\n      <td>1</td>\n      <td>no</td>\n    </tr>\n    <tr>\n      <th>2</th>\n      <td>1902</td>\n      <td>27</td>\n      <td>No</td>\n      <td>No</td>\n      <td>1</td>\n      <td>no</td>\n    </tr>\n    <tr>\n      <th>3</th>\n      <td>1903</td>\n      <td>20</td>\n      <td>Yes</td>\n      <td>No</td>\n      <td>1</td>\n      <td>no</td>\n    </tr>\n    <tr>\n      <th>4</th>\n      <td>1904</td>\n      <td>22</td>\n      <td>No</td>\n      <td>No</td>\n      <td>1</td>\n      <td>no</td>\n    </tr>\n  </tbody>\n</table>\n</div>"
          },
          "metadata": {}
        }
      ]
    },
    {
      "cell_type": "code",
      "source": "df['Flairs'].replace(to_replace=['Yes','No'], value=[0,1],inplace=True)\ndf.head()",
      "metadata": {
        "trusted": true
      },
      "execution_count": 6,
      "outputs": [
        {
          "execution_count": 6,
          "output_type": "execute_result",
          "data": {
            "text/plain": "   Year  Annual Freeze  Flairs  Hurricaines Earthquakes\n0  1900      19    Yes       1            0          no\n1  1901      21     No       1            1          no\n2  1902      27     No       1            1          no\n3  1903      20    Yes       1            1          no\n4  1904      22     No       1            1          no",
            "text/html": "<div>\n<style scoped>\n    .dataframe tbody tr th:only-of-type {\n        vertical-align: middle;\n    }\n\n    .dataframe tbody tr th {\n        vertical-align: top;\n    }\n\n    .dataframe thead th {\n        text-align: right;\n    }\n</style>\n<table border=\"1\" class=\"dataframe\">\n  <thead>\n    <tr style=\"text-align: right;\">\n      <th></th>\n      <th>Year</th>\n      <th>Annual</th>\n      <th>Freeze</th>\n      <th>Flairs</th>\n      <th>Hurricaines</th>\n      <th>Earthquakes</th>\n    </tr>\n  </thead>\n  <tbody>\n    <tr>\n      <th>0</th>\n      <td>1900</td>\n      <td>19</td>\n      <td>Yes</td>\n      <td>1</td>\n      <td>0</td>\n      <td>no</td>\n    </tr>\n    <tr>\n      <th>1</th>\n      <td>1901</td>\n      <td>21</td>\n      <td>No</td>\n      <td>1</td>\n      <td>1</td>\n      <td>no</td>\n    </tr>\n    <tr>\n      <th>2</th>\n      <td>1902</td>\n      <td>27</td>\n      <td>No</td>\n      <td>1</td>\n      <td>1</td>\n      <td>no</td>\n    </tr>\n    <tr>\n      <th>3</th>\n      <td>1903</td>\n      <td>20</td>\n      <td>Yes</td>\n      <td>1</td>\n      <td>1</td>\n      <td>no</td>\n    </tr>\n    <tr>\n      <th>4</th>\n      <td>1904</td>\n      <td>22</td>\n      <td>No</td>\n      <td>1</td>\n      <td>1</td>\n      <td>no</td>\n    </tr>\n  </tbody>\n</table>\n</div>"
          },
          "metadata": {}
        }
      ]
    },
    {
      "cell_type": "code",
      "source": "df['Earthquakes'].replace(to_replace=['Yes','no'], value=[0,1],inplace=True)\ndf.head()",
      "metadata": {
        "trusted": true
      },
      "execution_count": 7,
      "outputs": [
        {
          "execution_count": 7,
          "output_type": "execute_result",
          "data": {
            "text/plain": "   Year  Annual Freeze  Flairs  Hurricaines  Earthquakes\n0  1900      19    Yes       1            0            1\n1  1901      21     No       1            1            1\n2  1902      27     No       1            1            1\n3  1903      20    Yes       1            1            1\n4  1904      22     No       1            1            1",
            "text/html": "<div>\n<style scoped>\n    .dataframe tbody tr th:only-of-type {\n        vertical-align: middle;\n    }\n\n    .dataframe tbody tr th {\n        vertical-align: top;\n    }\n\n    .dataframe thead th {\n        text-align: right;\n    }\n</style>\n<table border=\"1\" class=\"dataframe\">\n  <thead>\n    <tr style=\"text-align: right;\">\n      <th></th>\n      <th>Year</th>\n      <th>Annual</th>\n      <th>Freeze</th>\n      <th>Flairs</th>\n      <th>Hurricaines</th>\n      <th>Earthquakes</th>\n    </tr>\n  </thead>\n  <tbody>\n    <tr>\n      <th>0</th>\n      <td>1900</td>\n      <td>19</td>\n      <td>Yes</td>\n      <td>1</td>\n      <td>0</td>\n      <td>1</td>\n    </tr>\n    <tr>\n      <th>1</th>\n      <td>1901</td>\n      <td>21</td>\n      <td>No</td>\n      <td>1</td>\n      <td>1</td>\n      <td>1</td>\n    </tr>\n    <tr>\n      <th>2</th>\n      <td>1902</td>\n      <td>27</td>\n      <td>No</td>\n      <td>1</td>\n      <td>1</td>\n      <td>1</td>\n    </tr>\n    <tr>\n      <th>3</th>\n      <td>1903</td>\n      <td>20</td>\n      <td>Yes</td>\n      <td>1</td>\n      <td>1</td>\n      <td>1</td>\n    </tr>\n    <tr>\n      <th>4</th>\n      <td>1904</td>\n      <td>22</td>\n      <td>No</td>\n      <td>1</td>\n      <td>1</td>\n      <td>1</td>\n    </tr>\n  </tbody>\n</table>\n</div>"
          },
          "metadata": {}
        }
      ]
    },
    {
      "cell_type": "code",
      "source": "Feature = df[['Year','Annual','Flairs','Hurricaines','Earthquakes']]\nFeature.head()",
      "metadata": {
        "trusted": true
      },
      "execution_count": 8,
      "outputs": [
        {
          "execution_count": 8,
          "output_type": "execute_result",
          "data": {
            "text/plain": "   Year  Annual  Flairs  Hurricaines  Earthquakes\n0  1900      19       1            0            1\n1  1901      21       1            1            1\n2  1902      27       1            1            1\n3  1903      20       1            1            1\n4  1904      22       1            1            1",
            "text/html": "<div>\n<style scoped>\n    .dataframe tbody tr th:only-of-type {\n        vertical-align: middle;\n    }\n\n    .dataframe tbody tr th {\n        vertical-align: top;\n    }\n\n    .dataframe thead th {\n        text-align: right;\n    }\n</style>\n<table border=\"1\" class=\"dataframe\">\n  <thead>\n    <tr style=\"text-align: right;\">\n      <th></th>\n      <th>Year</th>\n      <th>Annual</th>\n      <th>Flairs</th>\n      <th>Hurricaines</th>\n      <th>Earthquakes</th>\n    </tr>\n  </thead>\n  <tbody>\n    <tr>\n      <th>0</th>\n      <td>1900</td>\n      <td>19</td>\n      <td>1</td>\n      <td>0</td>\n      <td>1</td>\n    </tr>\n    <tr>\n      <th>1</th>\n      <td>1901</td>\n      <td>21</td>\n      <td>1</td>\n      <td>1</td>\n      <td>1</td>\n    </tr>\n    <tr>\n      <th>2</th>\n      <td>1902</td>\n      <td>27</td>\n      <td>1</td>\n      <td>1</td>\n      <td>1</td>\n    </tr>\n    <tr>\n      <th>3</th>\n      <td>1903</td>\n      <td>20</td>\n      <td>1</td>\n      <td>1</td>\n      <td>1</td>\n    </tr>\n    <tr>\n      <th>4</th>\n      <td>1904</td>\n      <td>22</td>\n      <td>1</td>\n      <td>1</td>\n      <td>1</td>\n    </tr>\n  </tbody>\n</table>\n</div>"
          },
          "metadata": {}
        }
      ]
    },
    {
      "cell_type": "code",
      "source": "y = df['Freeze'].values\ny[0:6]",
      "metadata": {
        "trusted": true
      },
      "execution_count": 9,
      "outputs": [
        {
          "execution_count": 9,
          "output_type": "execute_result",
          "data": {
            "text/plain": "array(['Yes', 'No', 'No', 'Yes', 'No', 'Yes'], dtype=object)"
          },
          "metadata": {}
        }
      ]
    },
    {
      "cell_type": "code",
      "source": "X = Feature\nX[0:123]",
      "metadata": {
        "trusted": true
      },
      "execution_count": 10,
      "outputs": [
        {
          "execution_count": 10,
          "output_type": "execute_result",
          "data": {
            "text/plain": "     Year  Annual  Flairs  Hurricaines  Earthquakes\n0    1900      19       1            0            1\n1    1901      21       1            1            1\n2    1902      27       1            1            1\n3    1903      20       1            1            1\n4    1904      22       1            1            1\n..    ...     ...     ...          ...          ...\n118  2018      19       1            0            1\n119  2019      30       1            1            1\n120  2020      30       1            1            1\n121  2021      13       1            1            1\n122  2022      27       0            1            1\n\n[123 rows x 5 columns]",
            "text/html": "<div>\n<style scoped>\n    .dataframe tbody tr th:only-of-type {\n        vertical-align: middle;\n    }\n\n    .dataframe tbody tr th {\n        vertical-align: top;\n    }\n\n    .dataframe thead th {\n        text-align: right;\n    }\n</style>\n<table border=\"1\" class=\"dataframe\">\n  <thead>\n    <tr style=\"text-align: right;\">\n      <th></th>\n      <th>Year</th>\n      <th>Annual</th>\n      <th>Flairs</th>\n      <th>Hurricaines</th>\n      <th>Earthquakes</th>\n    </tr>\n  </thead>\n  <tbody>\n    <tr>\n      <th>0</th>\n      <td>1900</td>\n      <td>19</td>\n      <td>1</td>\n      <td>0</td>\n      <td>1</td>\n    </tr>\n    <tr>\n      <th>1</th>\n      <td>1901</td>\n      <td>21</td>\n      <td>1</td>\n      <td>1</td>\n      <td>1</td>\n    </tr>\n    <tr>\n      <th>2</th>\n      <td>1902</td>\n      <td>27</td>\n      <td>1</td>\n      <td>1</td>\n      <td>1</td>\n    </tr>\n    <tr>\n      <th>3</th>\n      <td>1903</td>\n      <td>20</td>\n      <td>1</td>\n      <td>1</td>\n      <td>1</td>\n    </tr>\n    <tr>\n      <th>4</th>\n      <td>1904</td>\n      <td>22</td>\n      <td>1</td>\n      <td>1</td>\n      <td>1</td>\n    </tr>\n    <tr>\n      <th>...</th>\n      <td>...</td>\n      <td>...</td>\n      <td>...</td>\n      <td>...</td>\n      <td>...</td>\n    </tr>\n    <tr>\n      <th>118</th>\n      <td>2018</td>\n      <td>19</td>\n      <td>1</td>\n      <td>0</td>\n      <td>1</td>\n    </tr>\n    <tr>\n      <th>119</th>\n      <td>2019</td>\n      <td>30</td>\n      <td>1</td>\n      <td>1</td>\n      <td>1</td>\n    </tr>\n    <tr>\n      <th>120</th>\n      <td>2020</td>\n      <td>30</td>\n      <td>1</td>\n      <td>1</td>\n      <td>1</td>\n    </tr>\n    <tr>\n      <th>121</th>\n      <td>2021</td>\n      <td>13</td>\n      <td>1</td>\n      <td>1</td>\n      <td>1</td>\n    </tr>\n    <tr>\n      <th>122</th>\n      <td>2022</td>\n      <td>27</td>\n      <td>0</td>\n      <td>1</td>\n      <td>1</td>\n    </tr>\n  </tbody>\n</table>\n<p>123 rows × 5 columns</p>\n</div>"
          },
          "metadata": {}
        }
      ]
    },
    {
      "cell_type": "code",
      "source": "X= preprocessing.StandardScaler().fit(X).transform(X)\nX[1:123]",
      "metadata": {
        "trusted": true
      },
      "execution_count": 11,
      "outputs": [
        {
          "execution_count": 11,
          "output_type": "execute_result",
          "data": {
            "text/plain": "array([[-1.68986152, -0.39653453,  0.22645541,  0.56796183,  0.59299945],\n       [-1.66169716,  0.66376433,  0.22645541,  0.56796183,  0.59299945],\n       [-1.6335328 , -0.57325101,  0.22645541,  0.56796183,  0.59299945],\n       [-1.60536844, -0.21981806,  0.22645541,  0.56796183,  0.59299945],\n       [-1.57720408, -1.4568334 ,  0.22645541,  0.56796183,  0.59299945],\n       [-1.54903972,  1.90077967,  0.22645541,  0.56796183, -1.6863422 ],\n       [-1.52087536,  1.01719728,  0.22645541,  0.56796183,  0.59299945],\n       [-1.49271101,  0.31033137,  0.22645541,  0.56796183, -1.6863422 ],\n       [-1.46454665, -0.39653453,  0.22645541,  0.56796183,  0.59299945],\n       [-1.43638229, -0.39653453,  0.22645541,  0.56796183,  0.59299945],\n       [-1.40821793, -1.28011692,  0.22645541,  0.56796183,  0.59299945],\n       [-1.38005357, -1.4568334 ,  0.22645541,  0.56796183,  0.59299945],\n       [-1.35188921,  0.1336149 ,  0.22645541,  0.56796183,  0.59299945],\n       [-1.32372485,  0.1336149 ,  0.22645541,  0.56796183,  0.59299945],\n       [-1.2955605 ,  0.84048081,  0.22645541,  0.56796183,  0.59299945],\n       [-1.26739614, -0.39653453,  0.22645541,  0.56796183,  0.59299945],\n       [-1.23923178, -0.39653453,  0.22645541,  0.56796183,  0.59299945],\n       [-1.21106742, -2.16369931,  0.22645541,  0.56796183,  0.59299945],\n       [-1.18290306,  0.1336149 ,  0.22645541, -1.76068169,  0.59299945],\n       [-1.1547387 ,  0.84048081,  0.22645541,  0.56796183, -1.6863422 ],\n       [-1.12657434,  1.37063024,  0.22645541,  0.56796183,  0.59299945],\n       [-1.09840998,  1.01719728,  0.22645541,  0.56796183,  0.59299945],\n       [-1.07024563,  0.1336149 ,  0.22645541,  0.56796183, -1.6863422 ],\n       [-1.04208127, -0.21981806,  0.22645541,  0.56796183,  0.59299945],\n       [-1.01391691,  0.48704785,  0.22645541,  0.56796183,  0.59299945],\n       [-0.98575255,  1.19391376,  0.22645541, -1.76068169,  0.59299945],\n       [-0.95758819,  0.31033137,  0.22645541,  0.56796183,  0.59299945],\n       [-0.92942383, -1.28011692,  0.22645541, -1.76068169,  0.59299945],\n       [-0.90125947, -0.57325101,  0.22645541,  0.56796183,  0.59299945],\n       [-0.87309512, -3.22399817,  0.22645541,  0.56796183,  0.59299945],\n       [-0.84493076,  1.72406319,  0.22645541,  0.56796183, -1.6863422 ],\n       [-0.8167664 , -0.57325101,  0.22645541,  0.56796183,  0.59299945],\n       [-0.78860204, -1.81026635,  0.22645541,  0.56796183,  0.59299945],\n       [-0.76043768,  0.84048081,  0.22645541,  0.56796183,  0.59299945],\n       [-0.73227332, -1.10340044,  0.22645541, -1.76068169, -1.6863422 ],\n       [-0.70410896, -0.74996749,  0.22645541,  0.56796183,  0.59299945],\n       [-0.67594461,  0.66376433,  0.22645541,  0.56796183,  0.59299945],\n       [-0.64778025,  0.84048081,  0.22645541, -1.76068169,  0.59299945],\n       [-0.61961589,  1.01719728,  0.22645541,  0.56796183,  0.59299945],\n       [-0.59145153, -2.34041578,  0.22645541,  0.56796183,  0.59299945],\n       [-0.56328717,  1.54734672,  0.22645541,  0.56796183,  0.59299945],\n       [-0.53512281,  0.84048081,  0.22645541,  0.56796183,  0.59299945],\n       [-0.50695845, -1.10340044,  0.22645541,  0.56796183,  0.59299945],\n       [-0.4787941 ,  0.31033137,  0.22645541, -1.76068169,  0.59299945],\n       [-0.45062974,  0.66376433,  0.22645541,  0.56796183,  0.59299945],\n       [-0.42246538,  0.66376433,  0.22645541,  0.56796183,  0.59299945],\n       [-0.39430102, -0.21981806,  0.22645541,  0.56796183,  0.59299945],\n       [-0.36613666, -0.21981806,  0.22645541,  0.56796183, -1.6863422 ],\n       [-0.3379723 , -1.63354987,  0.22645541,  0.56796183,  0.59299945],\n       [-0.30980794, -0.57325101,  0.22645541,  0.56796183, -1.6863422 ],\n       [-0.28164359, -1.63354987,  0.22645541,  0.56796183,  0.59299945],\n       [-0.25347923,  1.19391376,  0.22645541,  0.56796183,  0.59299945],\n       [-0.22531487,  0.66376433,  0.22645541,  0.56796183,  0.59299945],\n       [-0.19715051,  0.1336149 ,  0.22645541, -1.76068169,  0.59299945],\n       [-0.16898615,  0.31033137,  0.22645541, -1.76068169,  0.59299945],\n       [-0.14082179,  1.72406319,  0.22645541,  0.56796183,  0.59299945],\n       [-0.11265743,  0.48704785,  0.22645541, -1.76068169,  0.59299945],\n       [-0.08449308,  0.48704785,  0.22645541,  0.56796183,  0.59299945],\n       [-0.05632872, -0.39653453,  0.22645541,  0.56796183,  0.59299945],\n       [-0.02816436,  0.66376433,  0.22645541, -1.76068169, -1.6863422 ],\n       [ 0.        ,  0.84048081,  0.22645541,  0.56796183,  0.59299945],\n       [ 0.02816436, -0.57325101,  0.22645541,  0.56796183,  0.59299945],\n       [ 0.05632872, -0.92668397,  0.22645541,  0.56796183, -1.6863422 ],\n       [ 0.08449308,  0.1336149 ,  0.22645541,  0.56796183, -1.6863422 ],\n       [ 0.11265743,  0.66376433,  0.22645541,  0.56796183,  0.59299945],\n       [ 0.14082179, -0.39653453,  0.22645541,  0.56796183,  0.59299945],\n       [ 0.16898615,  1.37063024,  0.22645541,  0.56796183,  0.59299945],\n       [ 0.19715051,  1.01719728,  0.22645541,  0.56796183,  0.59299945],\n       [ 0.22531487,  0.31033137,  0.22645541, -1.76068169,  0.59299945],\n       [ 0.25347923, -0.74996749,  0.22645541,  0.56796183, -1.6863422 ],\n       [ 0.28164359,  0.31033137,  0.22645541,  0.56796183,  0.59299945],\n       [ 0.30980794, -0.21981806, -4.41588043, -1.76068169, -1.6863422 ],\n       [ 0.3379723 , -0.74996749,  0.22645541,  0.56796183,  0.59299945],\n       [ 0.36613666,  0.48704785,  0.22645541,  0.56796183,  0.59299945],\n       [ 0.39430102, -0.39653453,  0.22645541,  0.56796183,  0.59299945],\n       [ 0.42246538, -0.74996749,  0.22645541,  0.56796183, -1.6863422 ],\n       [ 0.45062974, -0.92668397,  0.22645541,  0.56796183,  0.59299945],\n       [ 0.4787941 , -0.57325101,  0.22645541,  0.56796183,  0.59299945],\n       [ 0.50695845, -1.10340044,  0.22645541, -1.76068169, -1.6863422 ],\n       [ 0.53512281, -0.21981806,  0.22645541,  0.56796183,  0.59299945],\n       [ 0.56328717, -0.57325101,  0.22645541,  0.56796183,  0.59299945],\n       [ 0.59145153, -1.98698283,  0.22645541,  0.56796183,  0.59299945],\n       [ 0.61961589, -2.16369931,  0.22645541, -1.76068169,  0.59299945],\n       [ 0.64778025, -0.57325101,  0.22645541,  0.56796183,  0.59299945],\n       [ 0.67594461, -1.28011692,  0.22645541,  0.56796183, -1.6863422 ],\n       [ 0.70410896,  0.84048081,  0.22645541,  0.56796183,  0.59299945],\n       [ 0.73227332,  0.48704785,  0.22645541,  0.56796183,  0.59299945],\n       [ 0.76043768,  0.1336149 ,  0.22645541, -1.76068169, -1.6863422 ],\n       [ 0.78860204, -2.87056522, -4.41588043,  0.56796183, -1.6863422 ],\n       [ 0.8167664 , -0.74996749,  0.22645541, -1.76068169,  0.59299945],\n       [ 0.84493076,  0.84048081,  0.22645541,  0.56796183,  0.59299945],\n       [ 0.87309512,  0.66376433,  0.22645541, -1.76068169,  0.59299945],\n       [ 0.90125947,  0.66376433,  0.22645541,  0.56796183,  0.59299945],\n       [ 0.92942383,  0.66376433,  0.22645541, -1.76068169, -1.6863422 ],\n       [ 0.95758819,  0.66376433,  0.22645541, -1.76068169, -1.6863422 ],\n       [ 0.98575255, -0.74996749,  0.22645541,  0.56796183,  0.59299945],\n       [ 1.01391691,  0.48704785,  0.22645541,  0.56796183,  0.59299945],\n       [ 1.04208127,  0.66376433,  0.22645541, -1.76068169,  0.59299945],\n       [ 1.07024563,  0.31033137,  0.22645541, -1.76068169, -1.6863422 ],\n       [ 1.09840998,  0.1336149 , -4.41588043, -1.76068169,  0.59299945],\n       [ 1.12657434,  0.48704785,  0.22645541, -1.76068169, -1.6863422 ],\n       [ 1.1547387 , -0.21981806,  0.22645541,  0.56796183,  0.59299945],\n       [ 1.18290306,  0.84048081, -4.41588043, -1.76068169, -1.6863422 ],\n       [ 1.21106742,  0.84048081,  0.22645541, -1.76068169, -1.6863422 ],\n       [ 1.23923178,  1.37063024,  0.22645541, -1.76068169, -1.6863422 ],\n       [ 1.26739614,  1.19391376, -4.41588043,  0.56796183, -1.6863422 ],\n       [ 1.2955605 ,  0.48704785,  0.22645541,  0.56796183,  0.59299945],\n       [ 1.32372485,  0.66376433,  0.22645541, -1.76068169, -1.6863422 ],\n       [ 1.35188921,  0.48704785,  0.22645541,  0.56796183, -1.6863422 ],\n       [ 1.38005357, -0.57325101,  0.22645541,  0.56796183, -1.6863422 ],\n       [ 1.40821793, -0.39653453,  0.22645541,  0.56796183, -1.6863422 ],\n       [ 1.43638229,  1.19391376,  0.22645541, -1.76068169,  0.59299945],\n       [ 1.46454665,  1.01719728,  0.22645541,  0.56796183,  0.59299945],\n       [ 1.49271101, -0.39653453,  0.22645541,  0.56796183,  0.59299945],\n       [ 1.52087536,  0.84048081,  0.22645541,  0.56796183, -1.6863422 ],\n       [ 1.54903972,  1.19391376,  0.22645541,  0.56796183, -1.6863422 ],\n       [ 1.57720408, -0.39653453,  0.22645541,  0.56796183,  0.59299945],\n       [ 1.60536844, -0.74996749,  0.22645541, -1.76068169,  0.59299945],\n       [ 1.6335328 ,  1.19391376,  0.22645541,  0.56796183,  0.59299945],\n       [ 1.66169716,  1.19391376,  0.22645541,  0.56796183,  0.59299945],\n       [ 1.68986152, -1.81026635,  0.22645541,  0.56796183,  0.59299945],\n       [ 1.71802587,  0.66376433, -4.41588043,  0.56796183,  0.59299945]])"
          },
          "metadata": {}
        }
      ]
    },
    {
      "cell_type": "code",
      "source": "from sklearn.model_selection import train_test_split \nX_train, X_test, y_train, y_test = train_test_split( X, y, test_size=0.2, random_state=8)\nprint ('Train set:', X_train.shape,  y_train.shape)\nprint ('Test set:', X_test.shape,  y_test.shape)",
      "metadata": {
        "trusted": true
      },
      "execution_count": 12,
      "outputs": [
        {
          "name": "stdout",
          "text": "Train set: (98, 5) (98,)\nTest set: (25, 5) (25,)\n",
          "output_type": "stream"
        }
      ]
    },
    {
      "cell_type": "code",
      "source": "from sklearn.neighbors import KNeighborsClassifier\n\nk = 1\n#Train Model and Predict  \nneigh = KNeighborsClassifier(n_neighbors = k).fit(X_train,y_train)\nneigh ",
      "metadata": {
        "trusted": true
      },
      "execution_count": 13,
      "outputs": [
        {
          "execution_count": 13,
          "output_type": "execute_result",
          "data": {
            "text/plain": "KNeighborsClassifier(n_neighbors=1)",
            "text/html": "<style>#sk-container-id-1 {color: black;background-color: white;}#sk-container-id-1 pre{padding: 0;}#sk-container-id-1 div.sk-toggleable {background-color: white;}#sk-container-id-1 label.sk-toggleable__label {cursor: pointer;display: block;width: 100%;margin-bottom: 0;padding: 0.3em;box-sizing: border-box;text-align: center;}#sk-container-id-1 label.sk-toggleable__label-arrow:before {content: \"▸\";float: left;margin-right: 0.25em;color: #696969;}#sk-container-id-1 label.sk-toggleable__label-arrow:hover:before {color: black;}#sk-container-id-1 div.sk-estimator:hover label.sk-toggleable__label-arrow:before {color: black;}#sk-container-id-1 div.sk-toggleable__content {max-height: 0;max-width: 0;overflow: hidden;text-align: left;background-color: #f0f8ff;}#sk-container-id-1 div.sk-toggleable__content pre {margin: 0.2em;color: black;border-radius: 0.25em;background-color: #f0f8ff;}#sk-container-id-1 input.sk-toggleable__control:checked~div.sk-toggleable__content {max-height: 200px;max-width: 100%;overflow: auto;}#sk-container-id-1 input.sk-toggleable__control:checked~label.sk-toggleable__label-arrow:before {content: \"▾\";}#sk-container-id-1 div.sk-estimator input.sk-toggleable__control:checked~label.sk-toggleable__label {background-color: #d4ebff;}#sk-container-id-1 div.sk-label input.sk-toggleable__control:checked~label.sk-toggleable__label {background-color: #d4ebff;}#sk-container-id-1 input.sk-hidden--visually {border: 0;clip: rect(1px 1px 1px 1px);clip: rect(1px, 1px, 1px, 1px);height: 1px;margin: -1px;overflow: hidden;padding: 0;position: absolute;width: 1px;}#sk-container-id-1 div.sk-estimator {font-family: monospace;background-color: #f0f8ff;border: 1px dotted black;border-radius: 0.25em;box-sizing: border-box;margin-bottom: 0.5em;}#sk-container-id-1 div.sk-estimator:hover {background-color: #d4ebff;}#sk-container-id-1 div.sk-parallel-item::after {content: \"\";width: 100%;border-bottom: 1px solid gray;flex-grow: 1;}#sk-container-id-1 div.sk-label:hover label.sk-toggleable__label {background-color: #d4ebff;}#sk-container-id-1 div.sk-serial::before {content: \"\";position: absolute;border-left: 1px solid gray;box-sizing: border-box;top: 0;bottom: 0;left: 50%;z-index: 0;}#sk-container-id-1 div.sk-serial {display: flex;flex-direction: column;align-items: center;background-color: white;padding-right: 0.2em;padding-left: 0.2em;position: relative;}#sk-container-id-1 div.sk-item {position: relative;z-index: 1;}#sk-container-id-1 div.sk-parallel {display: flex;align-items: stretch;justify-content: center;background-color: white;position: relative;}#sk-container-id-1 div.sk-item::before, #sk-container-id-1 div.sk-parallel-item::before {content: \"\";position: absolute;border-left: 1px solid gray;box-sizing: border-box;top: 0;bottom: 0;left: 50%;z-index: -1;}#sk-container-id-1 div.sk-parallel-item {display: flex;flex-direction: column;z-index: 1;position: relative;background-color: white;}#sk-container-id-1 div.sk-parallel-item:first-child::after {align-self: flex-end;width: 50%;}#sk-container-id-1 div.sk-parallel-item:last-child::after {align-self: flex-start;width: 50%;}#sk-container-id-1 div.sk-parallel-item:only-child::after {width: 0;}#sk-container-id-1 div.sk-dashed-wrapped {border: 1px dashed gray;margin: 0 0.4em 0.5em 0.4em;box-sizing: border-box;padding-bottom: 0.4em;background-color: white;}#sk-container-id-1 div.sk-label label {font-family: monospace;font-weight: bold;display: inline-block;line-height: 1.2em;}#sk-container-id-1 div.sk-label-container {text-align: center;}#sk-container-id-1 div.sk-container {/* jupyter's `normalize.less` sets `[hidden] { display: none; }` but bootstrap.min.css set `[hidden] { display: none !important; }` so we also need the `!important` here to be able to override the default hidden behavior on the sphinx rendered scikit-learn.org. See: https://github.com/scikit-learn/scikit-learn/issues/21755 */display: inline-block !important;position: relative;}#sk-container-id-1 div.sk-text-repr-fallback {display: none;}</style><div id=\"sk-container-id-1\" class=\"sk-top-container\"><div class=\"sk-text-repr-fallback\"><pre>KNeighborsClassifier(n_neighbors=1)</pre><b>In a Jupyter environment, please rerun this cell to show the HTML representation or trust the notebook. <br />On GitHub, the HTML representation is unable to render, please try loading this page with nbviewer.org.</b></div><div class=\"sk-container\" hidden><div class=\"sk-item\"><div class=\"sk-estimator sk-toggleable\"><input class=\"sk-toggleable__control sk-hidden--visually\" id=\"sk-estimator-id-1\" type=\"checkbox\" checked><label for=\"sk-estimator-id-1\" class=\"sk-toggleable__label sk-toggleable__label-arrow\">KNeighborsClassifier</label><div class=\"sk-toggleable__content\"><pre>KNeighborsClassifier(n_neighbors=1)</pre></div></div></div></div></div>"
          },
          "metadata": {}
        }
      ]
    },
    {
      "cell_type": "code",
      "source": "k = 1\n#Train Model and Predict  \nneigh = KNeighborsClassifier(n_neighbors = k).fit(X_train,y_train)\nneigh\nKNeighborsClassifier(n_neighbors=1)\nyhat = neigh.predict(X_test)\nyhat[0:5]\nfrom sklearn import metrics\nprint(\"Train set Accuracy: \", metrics.accuracy_score(y_train, neigh.predict(X_train)))\nprint(\"Test set Accuracy: \", metrics.accuracy_score(y_test, yhat))\n",
      "metadata": {
        "trusted": true
      },
      "execution_count": 14,
      "outputs": [
        {
          "name": "stdout",
          "text": "Train set Accuracy:  1.0\nTest set Accuracy:  0.8\n",
          "output_type": "stream"
        }
      ]
    },
    {
      "cell_type": "code",
      "source": "k = 2\n#Train Model and Predict  \nneigh = KNeighborsClassifier(n_neighbors = k).fit(X_train,y_train)\nneigh\nKNeighborsClassifier(n_neighbors=1)\nyhat = neigh.predict(X_test)\nyhat[0:5]\nfrom sklearn import metrics\nprint(\"Train set Accuracy: \", metrics.accuracy_score(y_train, neigh.predict(X_train)))\nprint(\"Test set Accuracy: \", metrics.accuracy_score(y_test, yhat))",
      "metadata": {
        "trusted": true
      },
      "execution_count": 15,
      "outputs": [
        {
          "name": "stdout",
          "text": "Train set Accuracy:  0.9693877551020408\nTest set Accuracy:  0.76\n",
          "output_type": "stream"
        }
      ]
    },
    {
      "cell_type": "code",
      "source": "from sklearn.neighbors import KNeighborsClassifier\nclassifier = KNeighborsClassifier(n_neighbors=5, metric='minkowski')\nclassifier.fit(X_train, y_train)\n\n\ny_pred = classifier.predict(X_test)\n\n\nfrom sklearn.metrics import classification_report, confusion_matrix\nprint(confusion_matrix(y_test, y_pred))\nprint(classification_report(y_test, y_pred))\n\n\n",
      "metadata": {
        "trusted": true
      },
      "execution_count": 25,
      "outputs": [
        {
          "name": "stdout",
          "text": "[[15  3]\n [ 3  4]]\n              precision    recall  f1-score   support\n\n          No       0.83      0.83      0.83        18\n         Yes       0.57      0.57      0.57         7\n\n    accuracy                           0.76        25\n   macro avg       0.70      0.70      0.70        25\nweighted avg       0.76      0.76      0.76        25\n\n",
          "output_type": "stream"
        }
      ]
    },
    {
      "cell_type": "code",
      "source": "error = []\n# Calculating error for K values between 1 and 40\nfor i in range(1, 40):\n    knn = KNeighborsClassifier(n_neighbors=i)\n    knn.fit(X_train, y_train)\n    pred_i = knn.predict(X_test)\n    error.append(np.mean(pred_i != y_test))\n\nplt.figure(figsize=(12, 6))\nplt.plot(range(1, 40), error, color='red', linestyle='dashed', marker='o',\n         markerfacecolor='blue', markersize=10)\nplt.title('Error Rate K Value')\nplt.xlabel('K Value')\nplt.ylabel('Mean Error')",
      "metadata": {
        "trusted": true
      },
      "execution_count": 26,
      "outputs": [
        {
          "execution_count": 26,
          "output_type": "execute_result",
          "data": {
            "text/plain": "Text(0, 0.5, 'Mean Error')"
          },
          "metadata": {}
        },
        {
          "output_type": "display_data",
          "data": {
            "text/plain": "<Figure size 1200x600 with 1 Axes>",
            "image/png": "[encoded data removed]"
          },
          "metadata": {}
        }
      ]
    },
    {
      "cell_type": "code",
      "source": "k = 9\n#Train Model and Predict  \nneigh = KNeighborsClassifier(n_neighbors = k).fit(X_train,y_train)\nneigh\nKNeighborsClassifier(n_neighbors=1)\nyhat = neigh.predict(X_test)\nyhat[0:123]\nfrom sklearn import metrics\nprint(\"Train set Accuracy: \", metrics.accuracy_score(y_train, neigh.predict(X_train)))\nprint(\"Test set Accuracy: \", metrics.accuracy_score(y_test, yhat))",
      "metadata": {
        "trusted": true
      },
      "execution_count": 72,
      "outputs": [
        {
          "name": "stdout",
          "text": "Train set Accuracy:  0.9387755102040817\nTest set Accuracy:  0.84\n",
          "output_type": "stream"
        }
      ]
    },
    {
      "cell_type": "code",
      "source": "# predict the response\npred = neigh.predict(X_test)\n\n#Predict Output\npred= knn.predict([[2022,27,0,1,1]])",
      "metadata": {
        "trusted": true
      },
      "execution_count": 73,
      "outputs": []
    },
    {
      "cell_type": "code",
      "source": "print(pred)",
      "metadata": {
        "trusted": true
      },
      "execution_count": 74,
      "outputs": [
        {
          "name": "stdout",
          "text": "['No']\n",
          "output_type": "stream"
        }
      ]
    },
    {
      "cell_type": "code",
      "source": "# predict the response\npred = neigh.predict(X_test)\n\n#Predict Output\npred= knn.predict([[2023,27,0,1,1]])\nprint(pred)",
      "metadata": {
        "trusted": true
      },
      "execution_count": 68,
      "outputs": [
        {
          "name": "stdout",
          "text": "['No']\n",
          "output_type": "stream"
        }
      ]
    },
    {
      "cell_type": "code",
      "source": "# predict the response\npred = neigh.predict(X_test)\n\n#Predict Output\npred= knn.predict([[2050,27,0,1,1]])\nprint(pred)",
      "metadata": {
        "trusted": true
      },
      "execution_count": 69,
      "outputs": [
        {
          "name": "stdout",
          "text": "['No']\n",
          "output_type": "stream"
        }
      ]
    },
    {
      "cell_type": "code",
      "source": "# predict the response\npred = neigh.predict(X_test)\n\n#Predict Output\npred= knn.predict([[2023,15,0,1,0]])\nprint(pred)",
      "metadata": {
        "trusted": true
      },
      "execution_count": 85,
      "outputs": [
        {
          "name": "stdout",
          "text": "['No']\n",
          "output_type": "stream"
        }
      ]
    },
    {
      "cell_type": "code",
      "source": "",
      "metadata": {},
      "execution_count": null,
      "outputs": []
    }
  ]
}